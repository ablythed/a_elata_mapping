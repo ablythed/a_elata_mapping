{
 "cells": [
  {
   "cell_type": "code",
   "execution_count": 12,
   "id": "87ec588d-7a8d-47bf-a248-dab2aaa18b46",
   "metadata": {},
   "outputs": [],
   "source": [
    "import geopandas as gpd\n",
    "from shapely.geometry import Polygon, mapping, Point\n",
    "from shapely import MultiPoint, convex_hull\n",
    "import fiona"
   ]
  },
  {
   "cell_type": "code",
   "execution_count": 5,
   "id": "767b7c20-c3d4-45a3-b073-84a2f3aa0cb2",
   "metadata": {},
   "outputs": [],
   "source": [
    "# read google maps data\n",
    "outline_points = gpd.read_file('PNRM Boundary.csv')"
   ]
  },
  {
   "cell_type": "code",
   "execution_count": 6,
   "id": "5f03ff05-bcd8-44c5-b5f2-699c96c27845",
   "metadata": {},
   "outputs": [],
   "source": [
    "# extract coords from url\n",
    "outline_points['x'] = outline_points['URL'].apply(lambda x : float(x.split('/')[-1].split(',')[1]))\n",
    "outline_points['y'] = outline_points['URL'].apply(lambda x : float(x.split('/')[-1].split(',')[0]))\n"
   ]
  },
  {
   "cell_type": "code",
   "execution_count": 7,
   "id": "96ceaca3-8e68-43db-b081-81021558c07e",
   "metadata": {},
   "outputs": [],
   "source": [
    "# save to csv\n",
    "outline_points.to_csv('outline_coords.csv')"
   ]
  },
  {
   "cell_type": "code",
   "execution_count": 8,
   "id": "5e9be905-e826-402e-a2f4-ad4f33ed06d0",
   "metadata": {},
   "outputs": [],
   "source": [
    "# make multipoint from coord\n",
    "outline_points['geometry'] = outline_points.apply(lambda d : Point(d.x,d.y),axis=1)\n",
    "mp = MultiPoint([p for p in outline_points['geometry']])"
   ]
  },
  {
   "cell_type": "code",
   "execution_count": 9,
   "id": "bb3401c0-416b-4074-8d36-9e3ae56e45f0",
   "metadata": {},
   "outputs": [],
   "source": [
    "# get convex hull of points\n",
    "hull = convex_hull(mp)"
   ]
  },
  {
   "cell_type": "code",
   "execution_count": 10,
   "id": "9de254a7-2706-41e6-8164-95dc6ef8db30",
   "metadata": {},
   "outputs": [
    {
     "data": {
      "text/plain": [
       "2.621976749963112e-07"
      ]
     },
     "execution_count": 10,
     "metadata": {},
     "output_type": "execute_result"
    }
   ],
   "source": [
    "hull.area"
   ]
  },
  {
   "cell_type": "code",
   "execution_count": 11,
   "id": "d04f24c5-d693-4303-bb78-23c6a320d5bf",
   "metadata": {},
   "outputs": [],
   "source": [
    "# thanks to stackexchange: https://stackoverflow.com/questions/13331698/how-to-apply-a-function-to-two-columns-of-pandas-dataframe\n",
    "# save convex hull to shapefile for use in arcgis\n",
    "schema = {\n",
    "    'geometry': 'Polygon',\n",
    "    'properties': {'id': 'int'},\n",
    "}\n",
    "\n",
    "# Write a new Shapefile\n",
    "with fiona.open('hull.shp', 'w', 'ESRI Shapefile', schema) as c:\n",
    "    ## If there are multiple geometries, put the \"for\" loop here\n",
    "    c.write({\n",
    "        'geometry': mapping(hull),\n",
    "        'properties': {'id': 1},\n",
    "    })"
   ]
  }
 ],
 "metadata": {
  "kernelspec": {
   "display_name": "Python 3 (ipykernel)",
   "language": "python",
   "name": "python3"
  },
  "language_info": {
   "codemirror_mode": {
    "name": "ipython",
    "version": 3
   },
   "file_extension": ".py",
   "mimetype": "text/x-python",
   "name": "python",
   "nbconvert_exporter": "python",
   "pygments_lexer": "ipython3",
   "version": "3.12.2"
  }
 },
 "nbformat": 4,
 "nbformat_minor": 5
}
