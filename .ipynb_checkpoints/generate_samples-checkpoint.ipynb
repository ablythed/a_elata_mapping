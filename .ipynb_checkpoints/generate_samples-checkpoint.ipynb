{
 "cells": [
  {
   "cell_type": "code",
   "execution_count": 151,
   "id": "e7c997a5-f62f-4b86-8412-c321215d68a7",
   "metadata": {},
   "outputs": [],
   "source": [
    "import pandas as pd\n",
    "import geopandas as gpd\n",
    "import random\n",
    "from shapely.geometry import Polygon, mapping, Point\n",
    "from shapely import MultiPoint, convex_hull, plotting\n",
    "import fiona"
   ]
  },
  {
   "cell_type": "code",
   "execution_count": 152,
   "id": "8cc1227c-f69a-4be3-9005-4fe838f9bf9c",
   "metadata": {},
   "outputs": [],
   "source": [
    "grid = gpd.read_file('intersecting_tess.geojson')"
   ]
  },
  {
   "cell_type": "code",
   "execution_count": 153,
   "id": "277ecb1c-4d14-4a51-beb3-a6686c76f326",
   "metadata": {},
   "outputs": [
    {
     "data": {
      "text/html": [
       "<div>\n",
       "<style scoped>\n",
       "    .dataframe tbody tr th:only-of-type {\n",
       "        vertical-align: middle;\n",
       "    }\n",
       "\n",
       "    .dataframe tbody tr th {\n",
       "        vertical-align: top;\n",
       "    }\n",
       "\n",
       "    .dataframe thead th {\n",
       "        text-align: right;\n",
       "    }\n",
       "</style>\n",
       "<table border=\"1\" class=\"dataframe\">\n",
       "  <thead>\n",
       "    <tr style=\"text-align: right;\">\n",
       "      <th></th>\n",
       "      <th>OBJECTID</th>\n",
       "      <th>GRID_ID</th>\n",
       "      <th>geometry</th>\n",
       "    </tr>\n",
       "  </thead>\n",
       "  <tbody>\n",
       "    <tr>\n",
       "      <th>0</th>\n",
       "      <td>1</td>\n",
       "      <td>B-15</td>\n",
       "      <td>POLYGON ((-74.43774 40.51546, -74.43774 40.515...</td>\n",
       "    </tr>\n",
       "    <tr>\n",
       "      <th>1</th>\n",
       "      <td>2</td>\n",
       "      <td>C-15</td>\n",
       "      <td>POLYGON ((-74.43766 40.51546, -74.43766 40.515...</td>\n",
       "    </tr>\n",
       "    <tr>\n",
       "      <th>2</th>\n",
       "      <td>3</td>\n",
       "      <td>D-15</td>\n",
       "      <td>POLYGON ((-74.43757 40.51546, -74.43757 40.515...</td>\n",
       "    </tr>\n",
       "    <tr>\n",
       "      <th>3</th>\n",
       "      <td>4</td>\n",
       "      <td>E-15</td>\n",
       "      <td>POLYGON ((-74.43749 40.51546, -74.43749 40.515...</td>\n",
       "    </tr>\n",
       "    <tr>\n",
       "      <th>4</th>\n",
       "      <td>5</td>\n",
       "      <td>A-14</td>\n",
       "      <td>POLYGON ((-74.43782 40.51552, -74.43782 40.515...</td>\n",
       "    </tr>\n",
       "  </tbody>\n",
       "</table>\n",
       "</div>"
      ],
      "text/plain": [
       "   OBJECTID GRID_ID                                           geometry\n",
       "0         1    B-15  POLYGON ((-74.43774 40.51546, -74.43774 40.515...\n",
       "1         2    C-15  POLYGON ((-74.43766 40.51546, -74.43766 40.515...\n",
       "2         3    D-15  POLYGON ((-74.43757 40.51546, -74.43757 40.515...\n",
       "3         4    E-15  POLYGON ((-74.43749 40.51546, -74.43749 40.515...\n",
       "4         5    A-14  POLYGON ((-74.43782 40.51552, -74.43782 40.515..."
      ]
     },
     "execution_count": 153,
     "metadata": {},
     "output_type": "execute_result"
    }
   ],
   "source": [
    "grid.head()"
   ]
  },
  {
   "cell_type": "code",
   "execution_count": 169,
   "id": "9dc57d6f-7949-4769-9348-f244b4f754fe",
   "metadata": {},
   "outputs": [],
   "source": [
    "grid['column'] = grid['GRID_ID'].apply(lambda x : x.split('-')[0])\n",
    "grid['row'] = grid['GRID_ID'].apply(lambda x : x.split('-')[1])"
   ]
  },
  {
   "cell_type": "code",
   "execution_count": 170,
   "id": "a8967f4b-33ee-4b7a-b3a0-109f6a71c455",
   "metadata": {},
   "outputs": [],
   "source": [
    "x_delta = abs(list(grid['geometry'].iloc[0].boundary.coords)[0][0]-list(grid['geometry'].iloc[0].boundary.coords)[2][0])\n",
    "y_delta = abs(list(grid['geometry'].iloc[0].boundary.coords)[0][1]-list(grid['geometry'].iloc[0].boundary.coords)[2][1])"
   ]
  },
  {
   "cell_type": "code",
   "execution_count": 171,
   "id": "5c7da615-6e0e-452f-9661-812971035b35",
   "metadata": {},
   "outputs": [],
   "source": [
    "# for each row and column of grid points, randomly choose a distance to move left/down\n",
    "row_coords = {}\n",
    "for r in grid['row'].unique():\n",
    "    row_coords[r] = random.random()*x_delta\n",
    "\n",
    "col_coords = {}\n",
    "for c in grid['column'].unique():\n",
    "    col_coords[c] = random.random()*y_delta\n"
   ]
  },
  {
   "cell_type": "code",
   "execution_count": 172,
   "id": "cdc755c7-9dd2-4bf5-8fb5-46098d2273b8",
   "metadata": {},
   "outputs": [
    {
     "data": {
      "text/plain": [
       "{'B': 5.4545408733379886e-05,\n",
       " 'C': 6.245329172006535e-05,\n",
       " 'D': 1.4745673474502334e-05,\n",
       " 'E': 1.2270353438979719e-05,\n",
       " 'A': 3.7744320853127355e-05,\n",
       " 'F': 2.6880349052614923e-05,\n",
       " 'G': 5.663222990605902e-05,\n",
       " 'H': 6.322698448857517e-05,\n",
       " 'I': 3.8458760615067244e-05,\n",
       " 'J': 3.462196087192342e-05}"
      ]
     },
     "execution_count": 172,
     "metadata": {},
     "output_type": "execute_result"
    }
   ],
   "source": [
    "col_coords"
   ]
  },
  {
   "cell_type": "code",
   "execution_count": 173,
   "id": "b664c2ce-41ec-4140-9b2c-fe1060a2e0bc",
   "metadata": {},
   "outputs": [
    {
     "data": {
      "text/plain": [
       "{'15': 8.341328308283054e-05,\n",
       " '14': 7.37591020660604e-05,\n",
       " '13': 5.927958014516986e-05,\n",
       " '12': 6.037530112310375e-05,\n",
       " '11': 8.004163322568361e-05,\n",
       " '10': 7.575483173979282e-05,\n",
       " '9': 5.280049715490992e-05,\n",
       " '8': 5.9841023287054744e-05,\n",
       " '7': 3.793757020333651e-05,\n",
       " '6': 4.364950511407452e-05,\n",
       " '5': 1.0975711922515905e-05,\n",
       " '4': 6.453748209398441e-05,\n",
       " '3': 3.42187876520119e-05,\n",
       " '2': 4.863547592678087e-05,\n",
       " '1': 4.533883160924704e-05}"
      ]
     },
     "execution_count": 173,
     "metadata": {},
     "output_type": "execute_result"
    }
   ],
   "source": [
    "row_coords"
   ]
  },
  {
   "cell_type": "code",
   "execution_count": 174,
   "id": "bc441b8d-f082-4a45-a621-9b847d7e99c6",
   "metadata": {},
   "outputs": [],
   "source": [
    "def find_lat(column,geometry):\n",
    "    max_y = max([y[1] for y in list(geometry.boundary.coords)])\n",
    "    return max_y - col_coords[column]"
   ]
  },
  {
   "cell_type": "code",
   "execution_count": 175,
   "id": "cccbad49-3677-4fda-8de0-d84202c83bde",
   "metadata": {},
   "outputs": [],
   "source": [
    "def find_long(row,geometry):\n",
    "    min_x = min([x[0] for x in list(geometry.boundary.coords)])\n",
    "    return min_x + row_coords[row]"
   ]
  },
  {
   "cell_type": "code",
   "execution_count": 176,
   "id": "f911db0c-71dc-4d80-854d-3f7fd84d13db",
   "metadata": {},
   "outputs": [],
   "source": [
    "# def find_point(row, column, geometry):\n",
    "#     ''' Returns the random point for a (row, column) pair '''\n",
    "#     min_x = min([x[0] for x in list(geometry.boundary.coords)])\n",
    "#     max_y = max([y[1] for y in list(geometry.boundary.coords)])\n",
    "#     return (min_x + row_coords[row],max_y - col_coords[column])\n",
    "#     # return Point(min_x + row_coords[row],max_y - col_coords[column])\n",
    "\n",
    "# grid['sample point'] = grid[['row','column','geometry']].apply(lambda d : find_point(d['row'],d['column'],d['geometry']),axis=1)\n",
    "\n",
    "# # sanity check - need to return as a Point to use this\n",
    "# grid['in quadrat?'] = grid[['geometry','sample point']].apply(lambda x : x['geometry'].contains(x['sample point']),axis=1)"
   ]
  },
  {
   "cell_type": "code",
   "execution_count": 177,
   "id": "df564b6c-61d6-41b1-b1bb-1c09b1e59b95",
   "metadata": {},
   "outputs": [],
   "source": [
    "grid['lat'] = grid.apply(lambda x : find_lat(x.column,x.geometry),axis=1)\n",
    "grid['long'] = grid.apply(lambda x : find_long(x.row,x.geometry),axis=1)"
   ]
  },
  {
   "cell_type": "code",
   "execution_count": 178,
   "id": "0d88c022-fd9f-4f4d-8f81-72fe22471390",
   "metadata": {},
   "outputs": [
    {
     "data": {
      "text/plain": [
       "<Axes: xlabel='long', ylabel='lat'>"
      ]
     },
     "execution_count": 178,
     "metadata": {},
     "output_type": "execute_result"
    },
    {
     "data": {
      "image/png": "[encoded data removed]",
      "text/plain": [
       "<Figure size 640x480 with 1 Axes>"
      ]
     },
     "metadata": {},
     "output_type": "display_data"
    }
   ],
   "source": [
    "grid.plot.scatter(x='long',y='lat')"
   ]
  },
  {
   "cell_type": "code",
   "execution_count": 179,
   "id": "4b13d992-d595-4d11-8af1-4980765d3d5f",
   "metadata": {},
   "outputs": [],
   "source": [
    "grid.to_csv('sample_points.csv')"
   ]
  }
 ],
 "metadata": {
  "kernelspec": {
   "display_name": "Python 3 (ipykernel)",
   "language": "python",
   "name": "python3"
  },
  "language_info": {
   "codemirror_mode": {
    "name": "ipython",
    "version": 3
   },
   "file_extension": ".py",
   "mimetype": "text/x-python",
   "name": "python",
   "nbconvert_exporter": "python",
   "pygments_lexer": "ipython3",
   "version": "3.12.2"
  }
 },
 "nbformat": 4,
 "nbformat_minor": 5
}
